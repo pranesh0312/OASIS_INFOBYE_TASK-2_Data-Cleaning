{
 "cells": [
  {
   "cell_type": "code",
   "execution_count": 28,
   "id": "a57136b2",
   "metadata": {},
   "outputs": [],
   "source": [
    "import pandas as pd\n",
    "import seaborn as sns\n",
    "import numpy as np\n",
    "import matplotlib.pyplot as plt   "
   ]
  },
  {
   "cell_type": "code",
   "execution_count": 29,
   "id": "751fd6a4",
   "metadata": {},
   "outputs": [],
   "source": [
    "#To load the csv file\n",
    "df=pd.read_csv(\"INvideos[1].csv\")"
   ]
  },
  {
   "cell_type": "code",
   "execution_count": 30,
   "id": "13a7c4e3",
   "metadata": {},
   "outputs": [
    {
     "data": {
      "text/html": [
       "<div>\n",
       "<style scoped>\n",
       "    .dataframe tbody tr th:only-of-type {\n",
       "        vertical-align: middle;\n",
       "    }\n",
       "\n",
       "    .dataframe tbody tr th {\n",
       "        vertical-align: top;\n",
       "    }\n",
       "\n",
       "    .dataframe thead th {\n",
       "        text-align: right;\n",
       "    }\n",
       "</style>\n",
       "<table border=\"1\" class=\"dataframe\">\n",
       "  <thead>\n",
       "    <tr style=\"text-align: right;\">\n",
       "      <th></th>\n",
       "      <th>video_id</th>\n",
       "      <th>trending_date</th>\n",
       "      <th>title</th>\n",
       "      <th>channel_title</th>\n",
       "      <th>category_id</th>\n",
       "      <th>publish_time</th>\n",
       "      <th>tags</th>\n",
       "      <th>views</th>\n",
       "      <th>likes</th>\n",
       "      <th>dislikes</th>\n",
       "      <th>comment_count</th>\n",
       "      <th>thumbnail_link</th>\n",
       "      <th>comments_disabled</th>\n",
       "      <th>ratings_disabled</th>\n",
       "      <th>video_error_or_removed</th>\n",
       "      <th>description</th>\n",
       "    </tr>\n",
       "  </thead>\n",
       "  <tbody>\n",
       "    <tr>\n",
       "      <th>0</th>\n",
       "      <td>kzwfHumJyYc</td>\n",
       "      <td>17.14.11</td>\n",
       "      <td>Sharry Mann: Cute Munda ( Song Teaser) | Parmi...</td>\n",
       "      <td>Lokdhun Punjabi</td>\n",
       "      <td>1</td>\n",
       "      <td>2017-11-12T12:20:39.000Z</td>\n",
       "      <td>sharry mann|\"sharry mann new song\"|\"sharry man...</td>\n",
       "      <td>1096327</td>\n",
       "      <td>33966</td>\n",
       "      <td>798</td>\n",
       "      <td>882</td>\n",
       "      <td>https://i.ytimg.com/vi/kzwfHumJyYc/default.jpg</td>\n",
       "      <td>False</td>\n",
       "      <td>False</td>\n",
       "      <td>False</td>\n",
       "      <td>Presenting Sharry Mann latest Punjabi Song  Cu...</td>\n",
       "    </tr>\n",
       "    <tr>\n",
       "      <th>1</th>\n",
       "      <td>zUZ1z7FwLc8</td>\n",
       "      <td>17.14.11</td>\n",
       "      <td>पीरियड्स के समय, पेट पर पति करता ऐसा, देखकर दं...</td>\n",
       "      <td>HJ NEWS</td>\n",
       "      <td>25</td>\n",
       "      <td>2017-11-13T05:43:56.000Z</td>\n",
       "      <td>पीरियड्स के समय|\"पेट पर पति करता ऐसा\"|\"देखकर द...</td>\n",
       "      <td>590101</td>\n",
       "      <td>735</td>\n",
       "      <td>904</td>\n",
       "      <td>0</td>\n",
       "      <td>https://i.ytimg.com/vi/zUZ1z7FwLc8/default.jpg</td>\n",
       "      <td>True</td>\n",
       "      <td>False</td>\n",
       "      <td>False</td>\n",
       "      <td>पीरियड्स के समय, पेट पर पति करता ऐसा, देखकर दं...</td>\n",
       "    </tr>\n",
       "    <tr>\n",
       "      <th>2</th>\n",
       "      <td>10L1hZ9qa58</td>\n",
       "      <td>17.14.11</td>\n",
       "      <td>Stylish Star Allu Arjun @ ChaySam Wedding Rece...</td>\n",
       "      <td>TFPC</td>\n",
       "      <td>24</td>\n",
       "      <td>2017-11-12T15:48:08.000Z</td>\n",
       "      <td>Stylish Star Allu Arjun @ ChaySam Wedding Rece...</td>\n",
       "      <td>473988</td>\n",
       "      <td>2011</td>\n",
       "      <td>243</td>\n",
       "      <td>149</td>\n",
       "      <td>https://i.ytimg.com/vi/10L1hZ9qa58/default.jpg</td>\n",
       "      <td>False</td>\n",
       "      <td>False</td>\n",
       "      <td>False</td>\n",
       "      <td>Watch Stylish Star Allu Arjun @ ChaySam Weddin...</td>\n",
       "    </tr>\n",
       "    <tr>\n",
       "      <th>3</th>\n",
       "      <td>N1vE8iiEg64</td>\n",
       "      <td>17.14.11</td>\n",
       "      <td>Eruma Saani | Tamil vs English</td>\n",
       "      <td>Eruma Saani</td>\n",
       "      <td>23</td>\n",
       "      <td>2017-11-12T07:08:48.000Z</td>\n",
       "      <td>Eruma Saani|\"Tamil Comedy Videos\"|\"Films\"|\"Mov...</td>\n",
       "      <td>1242680</td>\n",
       "      <td>70353</td>\n",
       "      <td>1624</td>\n",
       "      <td>2684</td>\n",
       "      <td>https://i.ytimg.com/vi/N1vE8iiEg64/default.jpg</td>\n",
       "      <td>False</td>\n",
       "      <td>False</td>\n",
       "      <td>False</td>\n",
       "      <td>This video showcases the difference between pe...</td>\n",
       "    </tr>\n",
       "    <tr>\n",
       "      <th>4</th>\n",
       "      <td>kJzGH0PVQHQ</td>\n",
       "      <td>17.14.11</td>\n",
       "      <td>why Samantha became EMOTIONAL @ Samantha naga ...</td>\n",
       "      <td>Filmylooks</td>\n",
       "      <td>24</td>\n",
       "      <td>2017-11-13T01:14:16.000Z</td>\n",
       "      <td>Filmylooks|\"latest news\"|\"telugu movies\"|\"telu...</td>\n",
       "      <td>464015</td>\n",
       "      <td>492</td>\n",
       "      <td>293</td>\n",
       "      <td>66</td>\n",
       "      <td>https://i.ytimg.com/vi/kJzGH0PVQHQ/default.jpg</td>\n",
       "      <td>False</td>\n",
       "      <td>False</td>\n",
       "      <td>False</td>\n",
       "      <td>why Samantha became EMOTIONAL @ Samantha naga ...</td>\n",
       "    </tr>\n",
       "    <tr>\n",
       "      <th>...</th>\n",
       "      <td>...</td>\n",
       "      <td>...</td>\n",
       "      <td>...</td>\n",
       "      <td>...</td>\n",
       "      <td>...</td>\n",
       "      <td>...</td>\n",
       "      <td>...</td>\n",
       "      <td>...</td>\n",
       "      <td>...</td>\n",
       "      <td>...</td>\n",
       "      <td>...</td>\n",
       "      <td>...</td>\n",
       "      <td>...</td>\n",
       "      <td>...</td>\n",
       "      <td>...</td>\n",
       "      <td>...</td>\n",
       "    </tr>\n",
       "    <tr>\n",
       "      <th>37347</th>\n",
       "      <td>iNHecA3PJCo</td>\n",
       "      <td>18.14.06</td>\n",
       "      <td>फेकू आशिक़ - राजस्थान की सबसे शानदार कॉमेडी | ...</td>\n",
       "      <td>RDC Rajasthani</td>\n",
       "      <td>23</td>\n",
       "      <td>2018-06-13T08:01:11.000Z</td>\n",
       "      <td>twinkle vaishnav comedy|\"twinkle vaishnav\"|\"tw...</td>\n",
       "      <td>214378</td>\n",
       "      <td>3291</td>\n",
       "      <td>404</td>\n",
       "      <td>196</td>\n",
       "      <td>https://i.ytimg.com/vi/iNHecA3PJCo/default.jpg</td>\n",
       "      <td>False</td>\n",
       "      <td>False</td>\n",
       "      <td>False</td>\n",
       "      <td>PRG Music &amp; RDC Rajasthani presents फेकू आशिक़...</td>\n",
       "    </tr>\n",
       "    <tr>\n",
       "      <th>37348</th>\n",
       "      <td>dpPmPbhcslM</td>\n",
       "      <td>18.14.06</td>\n",
       "      <td>Seetha | Flowers | Ep# 364</td>\n",
       "      <td>Flowers TV</td>\n",
       "      <td>24</td>\n",
       "      <td>2018-06-13T11:30:04.000Z</td>\n",
       "      <td>flowers serials|\"actress\"|\"malayalam serials\"|...</td>\n",
       "      <td>406828</td>\n",
       "      <td>1726</td>\n",
       "      <td>478</td>\n",
       "      <td>1428</td>\n",
       "      <td>https://i.ytimg.com/vi/dpPmPbhcslM/default.jpg</td>\n",
       "      <td>False</td>\n",
       "      <td>False</td>\n",
       "      <td>False</td>\n",
       "      <td>Flowers - A R Rahman Show,Book your Tickets He...</td>\n",
       "    </tr>\n",
       "    <tr>\n",
       "      <th>37349</th>\n",
       "      <td>mV6aztP58f8</td>\n",
       "      <td>18.14.06</td>\n",
       "      <td>Bhramanam I Episode 87 - 12 June 2018 I Mazhav...</td>\n",
       "      <td>Mazhavil Manorama</td>\n",
       "      <td>24</td>\n",
       "      <td>2018-06-13T05:00:02.000Z</td>\n",
       "      <td>mazhavil manorama|\"bhramanam full episode\"|\"gt...</td>\n",
       "      <td>386319</td>\n",
       "      <td>1216</td>\n",
       "      <td>453</td>\n",
       "      <td>697</td>\n",
       "      <td>https://i.ytimg.com/vi/mV6aztP58f8/default.jpg</td>\n",
       "      <td>False</td>\n",
       "      <td>False</td>\n",
       "      <td>False</td>\n",
       "      <td>Subscribe to Mazhavil Manorama now for your da...</td>\n",
       "    </tr>\n",
       "    <tr>\n",
       "      <th>37350</th>\n",
       "      <td>qxqDNP1bDEw</td>\n",
       "      <td>18.14.06</td>\n",
       "      <td>Nua Bohu | Full Ep 285 | 13th June 2018 | Odia...</td>\n",
       "      <td>Tarang TV</td>\n",
       "      <td>24</td>\n",
       "      <td>2018-06-13T15:07:49.000Z</td>\n",
       "      <td>tarang|\"tarang tv\"|\"tarang tv online\"|\"tarang ...</td>\n",
       "      <td>130263</td>\n",
       "      <td>698</td>\n",
       "      <td>115</td>\n",
       "      <td>65</td>\n",
       "      <td>https://i.ytimg.com/vi/qxqDNP1bDEw/default.jpg</td>\n",
       "      <td>False</td>\n",
       "      <td>False</td>\n",
       "      <td>False</td>\n",
       "      <td>Nuabohu : Story of a rustic village girl who w...</td>\n",
       "    </tr>\n",
       "    <tr>\n",
       "      <th>37351</th>\n",
       "      <td>wERgpPK44w0</td>\n",
       "      <td>18.14.06</td>\n",
       "      <td>Ee Nagaraniki Emaindi Trailer | Tharun Bhascke...</td>\n",
       "      <td>Suresh Productions</td>\n",
       "      <td>24</td>\n",
       "      <td>2018-06-10T04:29:54.000Z</td>\n",
       "      <td>Ee Nagaraniki Emaindi|\"Ee Nagaraniki Emaindi T...</td>\n",
       "      <td>1278249</td>\n",
       "      <td>22466</td>\n",
       "      <td>1609</td>\n",
       "      <td>1205</td>\n",
       "      <td>https://i.ytimg.com/vi/wERgpPK44w0/default.jpg</td>\n",
       "      <td>False</td>\n",
       "      <td>False</td>\n",
       "      <td>False</td>\n",
       "      <td>Check out Ee Nagaraniki Emaindi Trailer #EeNag...</td>\n",
       "    </tr>\n",
       "  </tbody>\n",
       "</table>\n",
       "<p>37352 rows × 16 columns</p>\n",
       "</div>"
      ],
      "text/plain": [
       "          video_id trending_date  \\\n",
       "0      kzwfHumJyYc      17.14.11   \n",
       "1      zUZ1z7FwLc8      17.14.11   \n",
       "2      10L1hZ9qa58      17.14.11   \n",
       "3      N1vE8iiEg64      17.14.11   \n",
       "4      kJzGH0PVQHQ      17.14.11   \n",
       "...            ...           ...   \n",
       "37347  iNHecA3PJCo      18.14.06   \n",
       "37348  dpPmPbhcslM      18.14.06   \n",
       "37349  mV6aztP58f8      18.14.06   \n",
       "37350  qxqDNP1bDEw      18.14.06   \n",
       "37351  wERgpPK44w0      18.14.06   \n",
       "\n",
       "                                                   title       channel_title  \\\n",
       "0      Sharry Mann: Cute Munda ( Song Teaser) | Parmi...     Lokdhun Punjabi   \n",
       "1      पीरियड्स के समय, पेट पर पति करता ऐसा, देखकर दं...             HJ NEWS   \n",
       "2      Stylish Star Allu Arjun @ ChaySam Wedding Rece...                TFPC   \n",
       "3                         Eruma Saani | Tamil vs English         Eruma Saani   \n",
       "4      why Samantha became EMOTIONAL @ Samantha naga ...          Filmylooks   \n",
       "...                                                  ...                 ...   \n",
       "37347  फेकू आशिक़ - राजस्थान की सबसे शानदार कॉमेडी | ...      RDC Rajasthani   \n",
       "37348                         Seetha | Flowers | Ep# 364          Flowers TV   \n",
       "37349  Bhramanam I Episode 87 - 12 June 2018 I Mazhav...   Mazhavil Manorama   \n",
       "37350  Nua Bohu | Full Ep 285 | 13th June 2018 | Odia...           Tarang TV   \n",
       "37351  Ee Nagaraniki Emaindi Trailer | Tharun Bhascke...  Suresh Productions   \n",
       "\n",
       "       category_id              publish_time  \\\n",
       "0                1  2017-11-12T12:20:39.000Z   \n",
       "1               25  2017-11-13T05:43:56.000Z   \n",
       "2               24  2017-11-12T15:48:08.000Z   \n",
       "3               23  2017-11-12T07:08:48.000Z   \n",
       "4               24  2017-11-13T01:14:16.000Z   \n",
       "...            ...                       ...   \n",
       "37347           23  2018-06-13T08:01:11.000Z   \n",
       "37348           24  2018-06-13T11:30:04.000Z   \n",
       "37349           24  2018-06-13T05:00:02.000Z   \n",
       "37350           24  2018-06-13T15:07:49.000Z   \n",
       "37351           24  2018-06-10T04:29:54.000Z   \n",
       "\n",
       "                                                    tags    views  likes  \\\n",
       "0      sharry mann|\"sharry mann new song\"|\"sharry man...  1096327  33966   \n",
       "1      पीरियड्स के समय|\"पेट पर पति करता ऐसा\"|\"देखकर द...   590101    735   \n",
       "2      Stylish Star Allu Arjun @ ChaySam Wedding Rece...   473988   2011   \n",
       "3      Eruma Saani|\"Tamil Comedy Videos\"|\"Films\"|\"Mov...  1242680  70353   \n",
       "4      Filmylooks|\"latest news\"|\"telugu movies\"|\"telu...   464015    492   \n",
       "...                                                  ...      ...    ...   \n",
       "37347  twinkle vaishnav comedy|\"twinkle vaishnav\"|\"tw...   214378   3291   \n",
       "37348  flowers serials|\"actress\"|\"malayalam serials\"|...   406828   1726   \n",
       "37349  mazhavil manorama|\"bhramanam full episode\"|\"gt...   386319   1216   \n",
       "37350  tarang|\"tarang tv\"|\"tarang tv online\"|\"tarang ...   130263    698   \n",
       "37351  Ee Nagaraniki Emaindi|\"Ee Nagaraniki Emaindi T...  1278249  22466   \n",
       "\n",
       "       dislikes  comment_count  \\\n",
       "0           798            882   \n",
       "1           904              0   \n",
       "2           243            149   \n",
       "3          1624           2684   \n",
       "4           293             66   \n",
       "...         ...            ...   \n",
       "37347       404            196   \n",
       "37348       478           1428   \n",
       "37349       453            697   \n",
       "37350       115             65   \n",
       "37351      1609           1205   \n",
       "\n",
       "                                       thumbnail_link  comments_disabled  \\\n",
       "0      https://i.ytimg.com/vi/kzwfHumJyYc/default.jpg              False   \n",
       "1      https://i.ytimg.com/vi/zUZ1z7FwLc8/default.jpg               True   \n",
       "2      https://i.ytimg.com/vi/10L1hZ9qa58/default.jpg              False   \n",
       "3      https://i.ytimg.com/vi/N1vE8iiEg64/default.jpg              False   \n",
       "4      https://i.ytimg.com/vi/kJzGH0PVQHQ/default.jpg              False   \n",
       "...                                               ...                ...   \n",
       "37347  https://i.ytimg.com/vi/iNHecA3PJCo/default.jpg              False   \n",
       "37348  https://i.ytimg.com/vi/dpPmPbhcslM/default.jpg              False   \n",
       "37349  https://i.ytimg.com/vi/mV6aztP58f8/default.jpg              False   \n",
       "37350  https://i.ytimg.com/vi/qxqDNP1bDEw/default.jpg              False   \n",
       "37351  https://i.ytimg.com/vi/wERgpPK44w0/default.jpg              False   \n",
       "\n",
       "       ratings_disabled  video_error_or_removed  \\\n",
       "0                 False                   False   \n",
       "1                 False                   False   \n",
       "2                 False                   False   \n",
       "3                 False                   False   \n",
       "4                 False                   False   \n",
       "...                 ...                     ...   \n",
       "37347             False                   False   \n",
       "37348             False                   False   \n",
       "37349             False                   False   \n",
       "37350             False                   False   \n",
       "37351             False                   False   \n",
       "\n",
       "                                             description  \n",
       "0      Presenting Sharry Mann latest Punjabi Song  Cu...  \n",
       "1      पीरियड्स के समय, पेट पर पति करता ऐसा, देखकर दं...  \n",
       "2      Watch Stylish Star Allu Arjun @ ChaySam Weddin...  \n",
       "3      This video showcases the difference between pe...  \n",
       "4      why Samantha became EMOTIONAL @ Samantha naga ...  \n",
       "...                                                  ...  \n",
       "37347  PRG Music & RDC Rajasthani presents फेकू आशिक़...  \n",
       "37348  Flowers - A R Rahman Show,Book your Tickets He...  \n",
       "37349  Subscribe to Mazhavil Manorama now for your da...  \n",
       "37350  Nuabohu : Story of a rustic village girl who w...  \n",
       "37351  Check out Ee Nagaraniki Emaindi Trailer #EeNag...  \n",
       "\n",
       "[37352 rows x 16 columns]"
      ]
     },
     "execution_count": 30,
     "metadata": {},
     "output_type": "execute_result"
    }
   ],
   "source": [
    "#To read the file\n",
    "df"
   ]
  },
  {
   "cell_type": "code",
   "execution_count": 31,
   "id": "20f8bc5c",
   "metadata": {},
   "outputs": [
    {
     "data": {
      "text/plain": [
       "(37352, 16)"
      ]
     },
     "execution_count": 31,
     "metadata": {},
     "output_type": "execute_result"
    }
   ],
   "source": [
    "#To view the shape of the data\n",
    "df.shape"
   ]
  },
  {
   "cell_type": "markdown",
   "id": "8e5dcacc",
   "metadata": {},
   "source": [
    "The dataset consists of 37352 Rows and 16 Columns"
   ]
  },
  {
   "cell_type": "code",
   "execution_count": 32,
   "id": "291fc82b",
   "metadata": {},
   "outputs": [
    {
     "name": "stdout",
     "output_type": "stream",
     "text": [
      "<class 'pandas.core.frame.DataFrame'>\n",
      "RangeIndex: 37352 entries, 0 to 37351\n",
      "Data columns (total 16 columns):\n",
      " #   Column                  Non-Null Count  Dtype \n",
      "---  ------                  --------------  ----- \n",
      " 0   video_id                37352 non-null  object\n",
      " 1   trending_date           37352 non-null  object\n",
      " 2   title                   37352 non-null  object\n",
      " 3   channel_title           37352 non-null  object\n",
      " 4   category_id             37352 non-null  int64 \n",
      " 5   publish_time            37352 non-null  object\n",
      " 6   tags                    37352 non-null  object\n",
      " 7   views                   37352 non-null  int64 \n",
      " 8   likes                   37352 non-null  int64 \n",
      " 9   dislikes                37352 non-null  int64 \n",
      " 10  comment_count           37352 non-null  int64 \n",
      " 11  thumbnail_link          37352 non-null  object\n",
      " 12  comments_disabled       37352 non-null  bool  \n",
      " 13  ratings_disabled        37352 non-null  bool  \n",
      " 14  video_error_or_removed  37352 non-null  bool  \n",
      " 15  description             36791 non-null  object\n",
      "dtypes: bool(3), int64(5), object(8)\n",
      "memory usage: 3.8+ MB\n"
     ]
    }
   ],
   "source": [
    "#To view the info of the data\n",
    "df.info()"
   ]
  },
  {
   "cell_type": "markdown",
   "id": "18068539",
   "metadata": {},
   "source": [
    "The above info show all the data type of the columns and the no of null values in each column"
   ]
  },
  {
   "cell_type": "code",
   "execution_count": 33,
   "id": "7b00b69e",
   "metadata": {},
   "outputs": [
    {
     "data": {
      "text/html": [
       "<div>\n",
       "<style scoped>\n",
       "    .dataframe tbody tr th:only-of-type {\n",
       "        vertical-align: middle;\n",
       "    }\n",
       "\n",
       "    .dataframe tbody tr th {\n",
       "        vertical-align: top;\n",
       "    }\n",
       "\n",
       "    .dataframe thead th {\n",
       "        text-align: right;\n",
       "    }\n",
       "</style>\n",
       "<table border=\"1\" class=\"dataframe\">\n",
       "  <thead>\n",
       "    <tr style=\"text-align: right;\">\n",
       "      <th></th>\n",
       "      <th>category_id</th>\n",
       "      <th>views</th>\n",
       "      <th>likes</th>\n",
       "      <th>dislikes</th>\n",
       "      <th>comment_count</th>\n",
       "    </tr>\n",
       "  </thead>\n",
       "  <tbody>\n",
       "    <tr>\n",
       "      <th>count</th>\n",
       "      <td>37352.000000</td>\n",
       "      <td>3.735200e+04</td>\n",
       "      <td>3.735200e+04</td>\n",
       "      <td>3.735200e+04</td>\n",
       "      <td>37352.00000</td>\n",
       "    </tr>\n",
       "    <tr>\n",
       "      <th>mean</th>\n",
       "      <td>21.576596</td>\n",
       "      <td>1.060478e+06</td>\n",
       "      <td>2.708272e+04</td>\n",
       "      <td>1.665082e+03</td>\n",
       "      <td>2676.99743</td>\n",
       "    </tr>\n",
       "    <tr>\n",
       "      <th>std</th>\n",
       "      <td>6.556593</td>\n",
       "      <td>3.184932e+06</td>\n",
       "      <td>9.714510e+04</td>\n",
       "      <td>1.607617e+04</td>\n",
       "      <td>14868.31713</td>\n",
       "    </tr>\n",
       "    <tr>\n",
       "      <th>min</th>\n",
       "      <td>1.000000</td>\n",
       "      <td>4.024000e+03</td>\n",
       "      <td>0.000000e+00</td>\n",
       "      <td>0.000000e+00</td>\n",
       "      <td>0.00000</td>\n",
       "    </tr>\n",
       "    <tr>\n",
       "      <th>25%</th>\n",
       "      <td>23.000000</td>\n",
       "      <td>1.239155e+05</td>\n",
       "      <td>8.640000e+02</td>\n",
       "      <td>1.080000e+02</td>\n",
       "      <td>81.00000</td>\n",
       "    </tr>\n",
       "    <tr>\n",
       "      <th>50%</th>\n",
       "      <td>24.000000</td>\n",
       "      <td>3.045860e+05</td>\n",
       "      <td>3.069000e+03</td>\n",
       "      <td>3.260000e+02</td>\n",
       "      <td>329.00000</td>\n",
       "    </tr>\n",
       "    <tr>\n",
       "      <th>75%</th>\n",
       "      <td>24.000000</td>\n",
       "      <td>7.992912e+05</td>\n",
       "      <td>1.377425e+04</td>\n",
       "      <td>1.019250e+03</td>\n",
       "      <td>1285.00000</td>\n",
       "    </tr>\n",
       "    <tr>\n",
       "      <th>max</th>\n",
       "      <td>43.000000</td>\n",
       "      <td>1.254322e+08</td>\n",
       "      <td>2.912710e+06</td>\n",
       "      <td>1.545017e+06</td>\n",
       "      <td>827755.00000</td>\n",
       "    </tr>\n",
       "  </tbody>\n",
       "</table>\n",
       "</div>"
      ],
      "text/plain": [
       "        category_id         views         likes      dislikes  comment_count\n",
       "count  37352.000000  3.735200e+04  3.735200e+04  3.735200e+04    37352.00000\n",
       "mean      21.576596  1.060478e+06  2.708272e+04  1.665082e+03     2676.99743\n",
       "std        6.556593  3.184932e+06  9.714510e+04  1.607617e+04    14868.31713\n",
       "min        1.000000  4.024000e+03  0.000000e+00  0.000000e+00        0.00000\n",
       "25%       23.000000  1.239155e+05  8.640000e+02  1.080000e+02       81.00000\n",
       "50%       24.000000  3.045860e+05  3.069000e+03  3.260000e+02      329.00000\n",
       "75%       24.000000  7.992912e+05  1.377425e+04  1.019250e+03     1285.00000\n",
       "max       43.000000  1.254322e+08  2.912710e+06  1.545017e+06   827755.00000"
      ]
     },
     "execution_count": 33,
     "metadata": {},
     "output_type": "execute_result"
    }
   ],
   "source": [
    "#To view the describtive summary of the data\n",
    "df.describe()"
   ]
  },
  {
   "cell_type": "code",
   "execution_count": 34,
   "id": "6fb3cbdf",
   "metadata": {},
   "outputs": [
    {
     "data": {
      "text/html": [
       "<div>\n",
       "<style scoped>\n",
       "    .dataframe tbody tr th:only-of-type {\n",
       "        vertical-align: middle;\n",
       "    }\n",
       "\n",
       "    .dataframe tbody tr th {\n",
       "        vertical-align: top;\n",
       "    }\n",
       "\n",
       "    .dataframe thead th {\n",
       "        text-align: right;\n",
       "    }\n",
       "</style>\n",
       "<table border=\"1\" class=\"dataframe\">\n",
       "  <thead>\n",
       "    <tr style=\"text-align: right;\">\n",
       "      <th></th>\n",
       "      <th>video_id</th>\n",
       "      <th>trending_date</th>\n",
       "      <th>title</th>\n",
       "      <th>channel_title</th>\n",
       "      <th>publish_time</th>\n",
       "      <th>tags</th>\n",
       "      <th>thumbnail_link</th>\n",
       "      <th>description</th>\n",
       "    </tr>\n",
       "  </thead>\n",
       "  <tbody>\n",
       "    <tr>\n",
       "      <th>count</th>\n",
       "      <td>37352</td>\n",
       "      <td>37352</td>\n",
       "      <td>37352</td>\n",
       "      <td>37352</td>\n",
       "      <td>37352</td>\n",
       "      <td>37352</td>\n",
       "      <td>37352</td>\n",
       "      <td>36791</td>\n",
       "    </tr>\n",
       "    <tr>\n",
       "      <th>unique</th>\n",
       "      <td>16307</td>\n",
       "      <td>205</td>\n",
       "      <td>16721</td>\n",
       "      <td>1426</td>\n",
       "      <td>16339</td>\n",
       "      <td>12578</td>\n",
       "      <td>16523</td>\n",
       "      <td>13992</td>\n",
       "    </tr>\n",
       "    <tr>\n",
       "      <th>top</th>\n",
       "      <td>#NAME?</td>\n",
       "      <td>17.14.11</td>\n",
       "      <td>Mission: Impossible - Fallout (2018) - Officia...</td>\n",
       "      <td>VikatanTV</td>\n",
       "      <td>2018-04-21T13:30:01.000Z</td>\n",
       "      <td>[none]</td>\n",
       "      <td>https://i.ytimg.com/vi/rRr1qiJRsXk/default.jpg</td>\n",
       "      <td>Subscribers Link: http://bit.ly/2qb69dZ\\n\\nCon...</td>\n",
       "    </tr>\n",
       "    <tr>\n",
       "      <th>freq</th>\n",
       "      <td>511</td>\n",
       "      <td>200</td>\n",
       "      <td>19</td>\n",
       "      <td>284</td>\n",
       "      <td>18</td>\n",
       "      <td>1381</td>\n",
       "      <td>16</td>\n",
       "      <td>166</td>\n",
       "    </tr>\n",
       "  </tbody>\n",
       "</table>\n",
       "</div>"
      ],
      "text/plain": [
       "       video_id trending_date  \\\n",
       "count     37352         37352   \n",
       "unique    16307           205   \n",
       "top      #NAME?      17.14.11   \n",
       "freq        511           200   \n",
       "\n",
       "                                                    title channel_title  \\\n",
       "count                                               37352         37352   \n",
       "unique                                              16721          1426   \n",
       "top     Mission: Impossible - Fallout (2018) - Officia...     VikatanTV   \n",
       "freq                                                   19           284   \n",
       "\n",
       "                    publish_time    tags  \\\n",
       "count                      37352   37352   \n",
       "unique                     16339   12578   \n",
       "top     2018-04-21T13:30:01.000Z  [none]   \n",
       "freq                          18    1381   \n",
       "\n",
       "                                        thumbnail_link  \\\n",
       "count                                            37352   \n",
       "unique                                           16523   \n",
       "top     https://i.ytimg.com/vi/rRr1qiJRsXk/default.jpg   \n",
       "freq                                                16   \n",
       "\n",
       "                                              description  \n",
       "count                                               36791  \n",
       "unique                                              13992  \n",
       "top     Subscribers Link: http://bit.ly/2qb69dZ\\n\\nCon...  \n",
       "freq                                                  166  "
      ]
     },
     "execution_count": 34,
     "metadata": {},
     "output_type": "execute_result"
    }
   ],
   "source": [
    "#To view the summary of the catagorical data in the data\n",
    "df.describe(include=object)"
   ]
  },
  {
   "cell_type": "code",
   "execution_count": 35,
   "id": "d15a8bd1",
   "metadata": {},
   "outputs": [
    {
     "data": {
      "text/plain": [
       "4263"
      ]
     },
     "execution_count": 35,
     "metadata": {},
     "output_type": "execute_result"
    }
   ],
   "source": [
    "#To view the no of duplicates\n",
    "df.duplicated().sum()"
   ]
  },
  {
   "cell_type": "markdown",
   "id": "d5de09a7",
   "metadata": {},
   "source": [
    "From above it shows that there are 4263 duplicate values in the dataset"
   ]
  },
  {
   "cell_type": "code",
   "execution_count": 36,
   "id": "639d4360",
   "metadata": {},
   "outputs": [],
   "source": [
    "#To delete the duplicate values \n",
    "df.drop_duplicates(inplace=True)"
   ]
  },
  {
   "cell_type": "code",
   "execution_count": 37,
   "id": "bfb1affa",
   "metadata": {},
   "outputs": [
    {
     "data": {
      "text/plain": [
       "0"
      ]
     },
     "execution_count": 37,
     "metadata": {},
     "output_type": "execute_result"
    }
   ],
   "source": [
    "#To view the no of duplicates after dropping the duplicates\n",
    "df.duplicated().sum()"
   ]
  },
  {
   "cell_type": "code",
   "execution_count": 38,
   "id": "deacbe90",
   "metadata": {},
   "outputs": [
    {
     "data": {
      "text/plain": [
       "video_id                    0\n",
       "trending_date               0\n",
       "title                       0\n",
       "channel_title               0\n",
       "category_id                 0\n",
       "publish_time                0\n",
       "tags                        0\n",
       "views                       0\n",
       "likes                       0\n",
       "dislikes                    0\n",
       "comment_count               0\n",
       "thumbnail_link              0\n",
       "comments_disabled           0\n",
       "ratings_disabled            0\n",
       "video_error_or_removed      0\n",
       "description               527\n",
       "dtype: int64"
      ]
     },
     "execution_count": 38,
     "metadata": {},
     "output_type": "execute_result"
    }
   ],
   "source": [
    "#To view the null values in the data\n",
    "df.isnull().sum()"
   ]
  },
  {
   "cell_type": "code",
   "execution_count": 39,
   "id": "6781a95e",
   "metadata": {},
   "outputs": [
    {
     "data": {
      "text/plain": [
       "video_id                  0.000000\n",
       "trending_date             0.000000\n",
       "title                     0.000000\n",
       "channel_title             0.000000\n",
       "category_id               0.000000\n",
       "publish_time              0.000000\n",
       "tags                      0.000000\n",
       "views                     0.000000\n",
       "likes                     0.000000\n",
       "dislikes                  0.000000\n",
       "comment_count             0.000000\n",
       "thumbnail_link            0.000000\n",
       "comments_disabled         0.000000\n",
       "ratings_disabled          0.000000\n",
       "video_error_or_removed    0.000000\n",
       "description               1.592674\n",
       "dtype: float64"
      ]
     },
     "execution_count": 39,
     "metadata": {},
     "output_type": "execute_result"
    }
   ],
   "source": [
    "#To view the null values in the data in Percentage\n",
    "df.isnull().sum()*100/len(df)"
   ]
  },
  {
   "cell_type": "code",
   "execution_count": 40,
   "id": "935dd8ae",
   "metadata": {},
   "outputs": [],
   "source": [
    "#to delete the null value rows\n",
    "df.dropna(inplace=True)"
   ]
  },
  {
   "cell_type": "code",
   "execution_count": 41,
   "id": "a6bb9575",
   "metadata": {},
   "outputs": [
    {
     "data": {
      "text/plain": [
       "video_id                  0\n",
       "trending_date             0\n",
       "title                     0\n",
       "channel_title             0\n",
       "category_id               0\n",
       "publish_time              0\n",
       "tags                      0\n",
       "views                     0\n",
       "likes                     0\n",
       "dislikes                  0\n",
       "comment_count             0\n",
       "thumbnail_link            0\n",
       "comments_disabled         0\n",
       "ratings_disabled          0\n",
       "video_error_or_removed    0\n",
       "description               0\n",
       "dtype: int64"
      ]
     },
     "execution_count": 41,
     "metadata": {},
     "output_type": "execute_result"
    }
   ],
   "source": [
    "#To view the null values in the data after dropping the null value rows\n",
    "df.isnull().sum()"
   ]
  },
  {
   "cell_type": "code",
   "execution_count": 42,
   "id": "f5decb59",
   "metadata": {},
   "outputs": [],
   "source": [
    "#Removing the columns which are not used for our analysing purpose using drop function\n",
    "df.drop(columns=\"category_id\",inplace=True)\n",
    "df.drop(columns=\"video_id\",inplace=True)"
   ]
  },
  {
   "cell_type": "code",
   "execution_count": 43,
   "id": "c3c47322",
   "metadata": {},
   "outputs": [
    {
     "data": {
      "text/html": [
       "<div>\n",
       "<style scoped>\n",
       "    .dataframe tbody tr th:only-of-type {\n",
       "        vertical-align: middle;\n",
       "    }\n",
       "\n",
       "    .dataframe tbody tr th {\n",
       "        vertical-align: top;\n",
       "    }\n",
       "\n",
       "    .dataframe thead th {\n",
       "        text-align: right;\n",
       "    }\n",
       "</style>\n",
       "<table border=\"1\" class=\"dataframe\">\n",
       "  <thead>\n",
       "    <tr style=\"text-align: right;\">\n",
       "      <th></th>\n",
       "      <th>trending_date</th>\n",
       "      <th>title</th>\n",
       "      <th>channel_title</th>\n",
       "      <th>publish_time</th>\n",
       "      <th>tags</th>\n",
       "      <th>views</th>\n",
       "      <th>likes</th>\n",
       "      <th>dislikes</th>\n",
       "      <th>comment_count</th>\n",
       "      <th>thumbnail_link</th>\n",
       "      <th>comments_disabled</th>\n",
       "      <th>ratings_disabled</th>\n",
       "      <th>video_error_or_removed</th>\n",
       "      <th>description</th>\n",
       "    </tr>\n",
       "  </thead>\n",
       "  <tbody>\n",
       "    <tr>\n",
       "      <th>0</th>\n",
       "      <td>17.14.11</td>\n",
       "      <td>Sharry Mann: Cute Munda ( Song Teaser) | Parmi...</td>\n",
       "      <td>Lokdhun Punjabi</td>\n",
       "      <td>2017-11-12T12:20:39.000Z</td>\n",
       "      <td>sharry mann|\"sharry mann new song\"|\"sharry man...</td>\n",
       "      <td>1096327</td>\n",
       "      <td>33966</td>\n",
       "      <td>798</td>\n",
       "      <td>882</td>\n",
       "      <td>https://i.ytimg.com/vi/kzwfHumJyYc/default.jpg</td>\n",
       "      <td>False</td>\n",
       "      <td>False</td>\n",
       "      <td>False</td>\n",
       "      <td>Presenting Sharry Mann latest Punjabi Song  Cu...</td>\n",
       "    </tr>\n",
       "    <tr>\n",
       "      <th>1</th>\n",
       "      <td>17.14.11</td>\n",
       "      <td>पीरियड्स के समय, पेट पर पति करता ऐसा, देखकर दं...</td>\n",
       "      <td>HJ NEWS</td>\n",
       "      <td>2017-11-13T05:43:56.000Z</td>\n",
       "      <td>पीरियड्स के समय|\"पेट पर पति करता ऐसा\"|\"देखकर द...</td>\n",
       "      <td>590101</td>\n",
       "      <td>735</td>\n",
       "      <td>904</td>\n",
       "      <td>0</td>\n",
       "      <td>https://i.ytimg.com/vi/zUZ1z7FwLc8/default.jpg</td>\n",
       "      <td>True</td>\n",
       "      <td>False</td>\n",
       "      <td>False</td>\n",
       "      <td>पीरियड्स के समय, पेट पर पति करता ऐसा, देखकर दं...</td>\n",
       "    </tr>\n",
       "    <tr>\n",
       "      <th>2</th>\n",
       "      <td>17.14.11</td>\n",
       "      <td>Stylish Star Allu Arjun @ ChaySam Wedding Rece...</td>\n",
       "      <td>TFPC</td>\n",
       "      <td>2017-11-12T15:48:08.000Z</td>\n",
       "      <td>Stylish Star Allu Arjun @ ChaySam Wedding Rece...</td>\n",
       "      <td>473988</td>\n",
       "      <td>2011</td>\n",
       "      <td>243</td>\n",
       "      <td>149</td>\n",
       "      <td>https://i.ytimg.com/vi/10L1hZ9qa58/default.jpg</td>\n",
       "      <td>False</td>\n",
       "      <td>False</td>\n",
       "      <td>False</td>\n",
       "      <td>Watch Stylish Star Allu Arjun @ ChaySam Weddin...</td>\n",
       "    </tr>\n",
       "    <tr>\n",
       "      <th>3</th>\n",
       "      <td>17.14.11</td>\n",
       "      <td>Eruma Saani | Tamil vs English</td>\n",
       "      <td>Eruma Saani</td>\n",
       "      <td>2017-11-12T07:08:48.000Z</td>\n",
       "      <td>Eruma Saani|\"Tamil Comedy Videos\"|\"Films\"|\"Mov...</td>\n",
       "      <td>1242680</td>\n",
       "      <td>70353</td>\n",
       "      <td>1624</td>\n",
       "      <td>2684</td>\n",
       "      <td>https://i.ytimg.com/vi/N1vE8iiEg64/default.jpg</td>\n",
       "      <td>False</td>\n",
       "      <td>False</td>\n",
       "      <td>False</td>\n",
       "      <td>This video showcases the difference between pe...</td>\n",
       "    </tr>\n",
       "    <tr>\n",
       "      <th>4</th>\n",
       "      <td>17.14.11</td>\n",
       "      <td>why Samantha became EMOTIONAL @ Samantha naga ...</td>\n",
       "      <td>Filmylooks</td>\n",
       "      <td>2017-11-13T01:14:16.000Z</td>\n",
       "      <td>Filmylooks|\"latest news\"|\"telugu movies\"|\"telu...</td>\n",
       "      <td>464015</td>\n",
       "      <td>492</td>\n",
       "      <td>293</td>\n",
       "      <td>66</td>\n",
       "      <td>https://i.ytimg.com/vi/kJzGH0PVQHQ/default.jpg</td>\n",
       "      <td>False</td>\n",
       "      <td>False</td>\n",
       "      <td>False</td>\n",
       "      <td>why Samantha became EMOTIONAL @ Samantha naga ...</td>\n",
       "    </tr>\n",
       "  </tbody>\n",
       "</table>\n",
       "</div>"
      ],
      "text/plain": [
       "  trending_date                                              title  \\\n",
       "0      17.14.11  Sharry Mann: Cute Munda ( Song Teaser) | Parmi...   \n",
       "1      17.14.11  पीरियड्स के समय, पेट पर पति करता ऐसा, देखकर दं...   \n",
       "2      17.14.11  Stylish Star Allu Arjun @ ChaySam Wedding Rece...   \n",
       "3      17.14.11                     Eruma Saani | Tamil vs English   \n",
       "4      17.14.11  why Samantha became EMOTIONAL @ Samantha naga ...   \n",
       "\n",
       "     channel_title              publish_time  \\\n",
       "0  Lokdhun Punjabi  2017-11-12T12:20:39.000Z   \n",
       "1          HJ NEWS  2017-11-13T05:43:56.000Z   \n",
       "2             TFPC  2017-11-12T15:48:08.000Z   \n",
       "3      Eruma Saani  2017-11-12T07:08:48.000Z   \n",
       "4       Filmylooks  2017-11-13T01:14:16.000Z   \n",
       "\n",
       "                                                tags    views  likes  \\\n",
       "0  sharry mann|\"sharry mann new song\"|\"sharry man...  1096327  33966   \n",
       "1  पीरियड्स के समय|\"पेट पर पति करता ऐसा\"|\"देखकर द...   590101    735   \n",
       "2  Stylish Star Allu Arjun @ ChaySam Wedding Rece...   473988   2011   \n",
       "3  Eruma Saani|\"Tamil Comedy Videos\"|\"Films\"|\"Mov...  1242680  70353   \n",
       "4  Filmylooks|\"latest news\"|\"telugu movies\"|\"telu...   464015    492   \n",
       "\n",
       "   dislikes  comment_count                                  thumbnail_link  \\\n",
       "0       798            882  https://i.ytimg.com/vi/kzwfHumJyYc/default.jpg   \n",
       "1       904              0  https://i.ytimg.com/vi/zUZ1z7FwLc8/default.jpg   \n",
       "2       243            149  https://i.ytimg.com/vi/10L1hZ9qa58/default.jpg   \n",
       "3      1624           2684  https://i.ytimg.com/vi/N1vE8iiEg64/default.jpg   \n",
       "4       293             66  https://i.ytimg.com/vi/kJzGH0PVQHQ/default.jpg   \n",
       "\n",
       "   comments_disabled  ratings_disabled  video_error_or_removed  \\\n",
       "0              False             False                   False   \n",
       "1               True             False                   False   \n",
       "2              False             False                   False   \n",
       "3              False             False                   False   \n",
       "4              False             False                   False   \n",
       "\n",
       "                                         description  \n",
       "0  Presenting Sharry Mann latest Punjabi Song  Cu...  \n",
       "1  पीरियड्स के समय, पेट पर पति करता ऐसा, देखकर दं...  \n",
       "2  Watch Stylish Star Allu Arjun @ ChaySam Weddin...  \n",
       "3  This video showcases the difference between pe...  \n",
       "4  why Samantha became EMOTIONAL @ Samantha naga ...  "
      ]
     },
     "execution_count": 43,
     "metadata": {},
     "output_type": "execute_result"
    }
   ],
   "source": [
    "#Data after droping the columns\n",
    "df.head()"
   ]
  },
  {
   "cell_type": "code",
   "execution_count": 44,
   "id": "94b9e07c",
   "metadata": {},
   "outputs": [
    {
     "data": {
      "image/png": "[encoded data removed]",
      "text/plain": [
       "<Figure size 2000x800 with 1 Axes>"
      ]
     },
     "metadata": {},
     "output_type": "display_data"
    }
   ],
   "source": [
    "df.boxplot(figsize=(20,8))\n",
    "plt.show()"
   ]
  },
  {
   "cell_type": "code",
   "execution_count": 45,
   "id": "dfc08126",
   "metadata": {},
   "outputs": [
    {
     "data": {
      "image/png": "[encoded data removed]",
      "text/plain": [
       "<Figure size 640x480 with 1 Axes>"
      ]
     },
     "metadata": {},
     "output_type": "display_data"
    }
   ],
   "source": [
    "sns.boxplot(df[\"views\"])\n",
    "plt.show()"
   ]
  },
  {
   "cell_type": "code",
   "execution_count": 46,
   "id": "c2887304",
   "metadata": {},
   "outputs": [
    {
     "data": {
      "image/png": "[encoded data removed]",
      "text/plain": [
       "<Figure size 640x480 with 1 Axes>"
      ]
     },
     "metadata": {},
     "output_type": "display_data"
    }
   ],
   "source": [
    "sns.boxplot(df[\"likes\"])\n",
    "plt.show()"
   ]
  },
  {
   "cell_type": "code",
   "execution_count": 47,
   "id": "952dfdb2",
   "metadata": {},
   "outputs": [
    {
     "data": {
      "image/png": "[encoded data removed]",
      "text/plain": [
       "<Figure size 640x480 with 1 Axes>"
      ]
     },
     "metadata": {},
     "output_type": "display_data"
    }
   ],
   "source": [
    "sns.boxplot(df[\"dislikes\"])\n",
    "plt.show()"
   ]
  },
  {
   "cell_type": "code",
   "execution_count": 48,
   "id": "79178fd2",
   "metadata": {},
   "outputs": [
    {
     "data": {
      "image/png": "[encoded data removed]",
      "text/plain": [
       "<Figure size 640x480 with 1 Axes>"
      ]
     },
     "metadata": {},
     "output_type": "display_data"
    }
   ],
   "source": [
    "sns.boxplot(df[\"comment_count\"])\n",
    "plt.show()"
   ]
  },
  {
   "cell_type": "code",
   "execution_count": 49,
   "id": "3af0e6cc",
   "metadata": {},
   "outputs": [],
   "source": [
    "#use of log transformation to remove the outliers\n",
    "df[\"views\"]=np.log1p(df[\"views\"])\n",
    "df[\"likes\"]=np.log1p(df[\"likes\"])\n",
    "df[\"dislikes\"]=np.log1p(df[\"dislikes\"])\n",
    "df[\"comment_count\"]=np.log1p(df[\"comment_count\"])"
   ]
  },
  {
   "cell_type": "code",
   "execution_count": 50,
   "id": "240ca698",
   "metadata": {},
   "outputs": [
    {
     "data": {
      "image/png": "[encoded data removed]",
      "text/plain": [
       "<Figure size 2000x800 with 1 Axes>"
      ]
     },
     "metadata": {},
     "output_type": "display_data"
    }
   ],
   "source": [
    "df.boxplot(figsize=(20,8))\n",
    "plt.show()"
   ]
  },
  {
   "cell_type": "code",
   "execution_count": 51,
   "id": "9b6c30fa",
   "metadata": {},
   "outputs": [],
   "source": [
    "#Use of IQR method to reduce the outliers\n",
    "for col in ['views','likes','dislikes','comment_count']:\n",
    "    q1=df[col].quantile(0.25)\n",
    "    q3=df[col].quantile(0.75)\n",
    "    iqr=q3-q1\n",
    "    lower_whisker=q1-1.5*iqr\n",
    "    upper_whisker=q3+1.5*iqr\n",
    "    ser=df[col].copy()\n",
    "    ser[ser<lower_whisker]=lower_whisker\n",
    "    ser[ser<upper_whisker]=upper_whisker\n",
    "    df[col]=ser"
   ]
  },
  {
   "cell_type": "code",
   "execution_count": 52,
   "id": "6e8d84d1",
   "metadata": {},
   "outputs": [
    {
     "data": {
      "image/png": "[encoded data removed]",
      "text/plain": [
       "<Figure size 1500x800 with 1 Axes>"
      ]
     },
     "metadata": {},
     "output_type": "display_data"
    }
   ],
   "source": [
    "df.boxplot(figsize=(15,8))\n",
    "plt.show()"
   ]
  },
  {
   "cell_type": "code",
   "execution_count": 53,
   "id": "711a3db8",
   "metadata": {},
   "outputs": [],
   "source": [
    "#Final Plot of box plot after reducing the outliers of all the columns\n",
    "for col in ['views','likes','dislikes','comment_count']:\n",
    "    q1=df[col].quantile(0.25)\n",
    "    q3=df[col].quantile(0.75)\n",
    "    iqr=q3-q1\n",
    "    df[col] = df[col][~((df[col]< (q1 - 1.5 * iqr)) |(df[col] > (q3 + 1.5 * iqr)))]"
   ]
  },
  {
   "cell_type": "code",
   "execution_count": 54,
   "id": "1e642f7a",
   "metadata": {},
   "outputs": [
    {
     "data": {
      "image/png": "[encoded data removed]",
      "text/plain": [
       "<Figure size 2000x800 with 1 Axes>"
      ]
     },
     "metadata": {},
     "output_type": "display_data"
    }
   ],
   "source": [
    "df.boxplot(figsize=(20,8))\n",
    "plt.show()"
   ]
  },
  {
   "cell_type": "markdown",
   "id": "e710ff2f",
   "metadata": {},
   "source": [
    "The above box plot represents the overall box plot in the data with the removal of outliers in the numerical columns"
   ]
  }
 ],
 "metadata": {
  "kernelspec": {
   "display_name": "Python 3 (ipykernel)",
   "language": "python",
   "name": "python3"
  },
  "language_info": {
   "codemirror_mode": {
    "name": "ipython",
    "version": 3
   },
   "file_extension": ".py",
   "mimetype": "text/x-python",
   "name": "python",
   "nbconvert_exporter": "python",
   "pygments_lexer": "ipython3",
   "version": "3.11.5"
  }
 },
 "nbformat": 4,
 "nbformat_minor": 5
}
